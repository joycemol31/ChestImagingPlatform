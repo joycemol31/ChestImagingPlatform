{
 "metadata": {
  "name": "airway_particles_example.ipynb"
 },
 "nbformat": 3,
 "nbformat_minor": 0,
 "worksheets": [
  {
   "cells": [
    {
     "cell_type": "code",
     "collapsed": false,
     "input": [
      "import matplotlib.pyplot as plt\n",
      "from skimage.transform import rotate\n",
      "import nrrd\n",
      "from cip_python.airway_particles import AirwayParticles"
     ],
     "language": "python",
     "metadata": {},
     "outputs": [],
     "prompt_number": 1
    },
    {
     "cell_type": "code",
     "collapsed": false,
     "input": [
      "in_file_name = \"/Users/jross/Projects/Data/Processed/COPDGene/16409S/16409S_INSP_STD_BWH_COPD/16409S_INSP_STD_BWH_COPD_cropped.nhdr\"\n",
      "out_particles_file_name = \"/Users/jross/Projects/Data/Processed/COPDGene/16409S/16409S_INSP_STD_BWH_COPD/16409S_INSP_STD_BWH_COPD_airwayParticlesCropped.vtk\"\n",
      "tmp_dir = \"/Users/jross/tmp/16409S/\"\n",
      "mask_file_name = \"/Users/jross/Projects/Data/Processed/COPDGene/16409S/16409S_INSP_STD_BWH_COPD/16409S_INSP_STD_BWH_COPD_airwayCropped.nhdr\""
     ],
     "language": "python",
     "metadata": {},
     "outputs": [],
     "prompt_number": 2
    },
    {
     "cell_type": "markdown",
     "metadata": {},
     "source": [
      "Read the cropped image and the mask in order to visualize them:"
     ]
    },
    {
     "cell_type": "code",
     "collapsed": false,
     "input": [
      "cropped_image, cropped_image_header = nrrd.read(in_file_name)\n",
      "cropped_mask, cropped_mask_header = nrrd.read(mask_file_name)"
     ],
     "language": "python",
     "metadata": {},
     "outputs": [],
     "prompt_number": 3
    },
    {
     "cell_type": "markdown",
     "metadata": {},
     "source": [
      "Inspect the input images. First look at the cropped image:"
     ]
    },
    {
     "cell_type": "code",
     "collapsed": false,
     "input": [
      "plt.set_cmap('gray')\n",
      "\n",
      "plt.subplot(1, 2, 1)\n",
      "plt.imshow(rotate(cropped_image[:, 95, :], 90))\n",
      "plt.title(\"Cropped Image\")\n",
      "\n",
      "plt.subplot(1, 2, 2)\n",
      "plt.imshow(rotate(cropped_mask[:, 95, :], 90))\n",
      "plt.title(\"Cropped Mask\")"
     ],
     "language": "python",
     "metadata": {},
     "outputs": [
      {
       "output_type": "pyout",
       "prompt_number": 4,
       "text": [
        "<matplotlib.text.Text at 0x100658a50>"
       ]
      },
      {
       "output_type": "display_data",
       "png": "[encoded data removed]",
       "text": [
        "<matplotlib.figure.Figure at 0x10b35b4d0>"
       ]
      }
     ],
     "prompt_number": 4
    },
    {
     "cell_type": "code",
     "collapsed": false,
     "input": [
      "particles = AirwayParticles(in_file_name, out_particles_file_name, tmp_dir, mask_file_name)"
     ],
     "language": "python",
     "metadata": {},
     "outputs": [],
     "prompt_number": 4
    },
    {
     "cell_type": "code",
     "collapsed": false,
     "input": [],
     "language": "python",
     "metadata": {},
     "outputs": []
    }
   ],
   "metadata": {}
  }
 ]
}